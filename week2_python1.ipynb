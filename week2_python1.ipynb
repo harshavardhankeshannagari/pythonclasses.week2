{
  "nbformat": 4,
  "nbformat_minor": 0,
  "metadata": {
    "colab": {
      "provenance": [],
      "authorship_tag": "ABX9TyNOypLbHOr3+UidytU5Ud/G",
      "include_colab_link": true
    },
    "kernelspec": {
      "name": "python3",
      "display_name": "Python 3"
    },
    "language_info": {
      "name": "python"
    }
  },
  "cells": [
    {
      "cell_type": "markdown",
      "metadata": {
        "id": "view-in-github",
        "colab_type": "text"
      },
      "source": [
        "<a href=\"https://colab.research.google.com/github/harshavardhankeshannagari/pythonclasses.week2/blob/main/week2_python1.ipynb\" target=\"_parent\"><img src=\"https://colab.research.google.com/assets/colab-badge.svg\" alt=\"Open In Colab\"/></a>"
      ]
    },
    {
      "cell_type": "code",
      "execution_count": null,
      "metadata": {
        "id": "_v3GkBNd-8Tt"
      },
      "outputs": [],
      "source": [
        "#functions"
      ]
    },
    {
      "cell_type": "code",
      "execution_count": null,
      "metadata": {
        "id": "p5g-L7txCZ-u"
      },
      "outputs": [],
      "source": [
        "def show_loading():\n",
        "  for _ in range(3):\n",
        "    print(\"loading\", \".\"*(i+1))\n"
      ]
    },
    {
      "cell_type": "code",
      "source": [
        "a = 5\n",
        "b = 7\n",
        " print(a + b)\n",
        " show_loading()\n",
        "\n",
        "\n",
        "\n",
        " print(a - b)\n",
        " show_loading()\n",
        "\n",
        "\n",
        " print(a * b)\n",
        " show_loading()\n"
      ],
      "metadata": {
        "id": "Wd0iLn02EOfG"
      },
      "execution_count": null,
      "outputs": []
    },
    {
      "cell_type": "code",
      "source": [
        "x = 6\n",
        "x = 'harsha'\n",
        "x = 1.5\n",
        "x = print"
      ],
      "metadata": {
        "id": "6KDba4PoDQaj"
      },
      "execution_count": null,
      "outputs": []
    },
    {
      "cell_type": "code",
      "source": [
        "def sheldon_knock():\n",
        "\n",
        "knock knock knock knock\n",
        "knock knock knock knock\n",
        "knock knock knock knock\n"
      ],
      "metadata": {
        "id": "LrR3HfKpGdJx"
      },
      "execution_count": null,
      "outputs": []
    },
    {
      "cell_type": "code",
      "source": [
        "def sheldon(name, times = 3):\n",
        "  for _ in range(times):\n",
        "    print(\"knock knock knock\", name)"
      ],
      "metadata": {
        "id": "zYWWlIXhG5uP"
      },
      "execution_count": null,
      "outputs": []
    },
    {
      "cell_type": "code",
      "source": [
        "def add(a, b):\n",
        "  return a + b"
      ],
      "metadata": {
        "id": "vvyJ4bJYHcx7"
      },
      "execution_count": null,
      "outputs": []
    },
    {
      "cell_type": "code",
      "source": [
        "sheldon_knock(\"penny\", 100)"
      ],
      "metadata": {
        "id": "nSfX9UgoHLq_"
      },
      "execution_count": null,
      "outputs": []
    }
  ]
}